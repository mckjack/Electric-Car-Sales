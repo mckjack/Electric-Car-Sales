{
 "cells": [
  {
   "cell_type": "markdown",
   "id": "17e810c7",
   "metadata": {},
   "source": [
    "### Dependencies"
   ]
  },
  {
   "cell_type": "code",
   "execution_count": 44,
   "id": "387ef56a",
   "metadata": {},
   "outputs": [],
   "source": [
    "import pandas as pd\n",
    "from pathlib import Path\n",
    "import matplotlib.pyplot as plt\n",
    "from sklearn.linear_model import LinearRegression\n",
    "import statsmodels.api as sm\n",
    "import statsmodels.formula.api as smf"
   ]
  },
  {
   "cell_type": "markdown",
   "id": "37fec4f1",
   "metadata": {},
   "source": [
    "### Data Preprocessing"
   ]
  },
  {
   "cell_type": "code",
   "execution_count": 45,
   "id": "7058237e",
   "metadata": {},
   "outputs": [],
   "source": [
    "# Once Data is cleaned, the code for preprocessing, loading the data will go here! '\n",
    "# Importing cleaned data into dataframe\n",
    "oil_prices_df = pd.read_csv(\"Resources_Clean/brent_oil_prices.csv\")\n",
    "electric_car_data_df = pd.read_csv(\"Resources_Clean/ecar_data_clean_me.csv\")\n",
    "electric_car_sales_df = pd.read_csv(\"Resources_Clean/ecar_sales_by_model_in_usa.csv\")\n",
    "charging_stations_df = pd.read_csv(\"Resources_Clean/ev_charging_stations.csv\")"
   ]
  },
  {
   "cell_type": "code",
   "execution_count": 46,
   "id": "c013c7c8",
   "metadata": {},
   "outputs": [
    {
     "data": {
      "text/plain": [
       "Unnamed: 0    0\n",
       "date          0\n",
       "price         0\n",
       "dtype: int64"
      ]
     },
     "execution_count": 46,
     "metadata": {},
     "output_type": "execute_result"
    }
   ],
   "source": [
    "# Check and Drop Null Values\n",
    "oil_prices_df.isnull().sum()"
   ]
  },
  {
   "cell_type": "code",
   "execution_count": 47,
   "id": "9786f6e0",
   "metadata": {},
   "outputs": [
    {
     "data": {
      "text/plain": [
       "Unnamed: 0          0\n",
       "brand               0\n",
       "model               0\n",
       "accel_sec           0\n",
       "top_speed_kmh       0\n",
       "range_km            0\n",
       "battery_pack_kwh    0\n",
       "efficiency_whkm     0\n",
       "fast_charge_kmh     0\n",
       "rapid_charge        0\n",
       "power_train         0\n",
       "plug_type           0\n",
       "body_style          0\n",
       "price_euro          0\n",
       "dtype: int64"
      ]
     },
     "execution_count": 47,
     "metadata": {},
     "output_type": "execute_result"
    }
   ],
   "source": [
    "electric_car_data_df.isnull().sum()"
   ]
  },
  {
   "cell_type": "code",
   "execution_count": 48,
   "id": "edc11199",
   "metadata": {},
   "outputs": [
    {
     "data": {
      "text/plain": [
       "Unnamed: 0     0\n",
       "make           0\n",
       "model          0\n",
       "jan_12        45\n",
       "feb_12        52\n",
       "              ..\n",
       "aug_19         1\n",
       "sep_19         1\n",
       "oct_19         1\n",
       "nov_19         1\n",
       "dec_19         0\n",
       "Length: 99, dtype: int64"
      ]
     },
     "execution_count": 48,
     "metadata": {},
     "output_type": "execute_result"
    }
   ],
   "source": [
    "electric_car_sales_df.isnull().sum()"
   ]
  },
  {
   "cell_type": "code",
   "execution_count": 49,
   "id": "840fa281",
   "metadata": {},
   "outputs": [
    {
     "data": {
      "text/plain": [
       "Unnamed: 0    0\n",
       "make          0\n",
       "model         0\n",
       "jan_12        0\n",
       "feb_12        0\n",
       "             ..\n",
       "aug_19        0\n",
       "sep_19        0\n",
       "oct_19        0\n",
       "nov_19        0\n",
       "dec_19        0\n",
       "Length: 99, dtype: int64"
      ]
     },
     "execution_count": 49,
     "metadata": {},
     "output_type": "execute_result"
    }
   ],
   "source": [
    "# Filling Null Values with 0 and checking\n",
    "electric_car_sales_df.fillna(value = 0, inplace = True)\n",
    "electric_car_sales_df.isnull().sum()"
   ]
  },
  {
   "cell_type": "code",
   "execution_count": 50,
   "id": "3c11ad4d",
   "metadata": {},
   "outputs": [
    {
     "data": {
      "text/plain": [
       "Unnamed: 0          0\n",
       "station_name        0\n",
       "street_address      0\n",
       "city                0\n",
       "access_days_time    0\n",
       "dtype: int64"
      ]
     },
     "execution_count": 50,
     "metadata": {},
     "output_type": "execute_result"
    }
   ],
   "source": [
    "charging_stations_df.isnull().sum()"
   ]
  },
  {
   "cell_type": "markdown",
   "id": "ec223b35",
   "metadata": {},
   "source": [
    "### Modelling with Oil Price Feature for June 2019"
   ]
  },
  {
   "cell_type": "code",
   "execution_count": 51,
   "id": "04bd9105",
   "metadata": {},
   "outputs": [
    {
     "data": {
      "text/html": [
       "<div>\n",
       "<style scoped>\n",
       "    .dataframe tbody tr th:only-of-type {\n",
       "        vertical-align: middle;\n",
       "    }\n",
       "\n",
       "    .dataframe tbody tr th {\n",
       "        vertical-align: top;\n",
       "    }\n",
       "\n",
       "    .dataframe thead th {\n",
       "        text-align: right;\n",
       "    }\n",
       "</style>\n",
       "<table border=\"1\" class=\"dataframe\">\n",
       "  <thead>\n",
       "    <tr style=\"text-align: right;\">\n",
       "      <th></th>\n",
       "      <th>Unnamed: 0</th>\n",
       "      <th>date</th>\n",
       "      <th>price</th>\n",
       "    </tr>\n",
       "  </thead>\n",
       "  <tbody>\n",
       "    <tr>\n",
       "      <th>385</th>\n",
       "      <td>385</td>\n",
       "      <td>2019-06</td>\n",
       "      <td>64.2205</td>\n",
       "    </tr>\n",
       "  </tbody>\n",
       "</table>\n",
       "</div>"
      ],
      "text/plain": [
       "     Unnamed: 0     date    price\n",
       "385         385  2019-06  64.2205"
      ]
     },
     "execution_count": 51,
     "metadata": {},
     "output_type": "execute_result"
    }
   ],
   "source": [
    "# Filtering Oil price data\n",
    "new_oil_prices_df = oil_prices_df.loc[(oil_prices_df['date'] == \"2019-06\")]\n",
    "new_oil_prices_df"
   ]
  },
  {
   "cell_type": "code",
   "execution_count": 52,
   "id": "b175caec",
   "metadata": {},
   "outputs": [
    {
     "data": {
      "text/plain": [
       "1249037.0"
      ]
     },
     "execution_count": 52,
     "metadata": {},
     "output_type": "execute_result"
    }
   ],
   "source": [
    "electric_car_sales_df['jun_19'].sum() # Target"
   ]
  },
  {
   "cell_type": "code",
   "execution_count": null,
   "id": "74175467",
   "metadata": {},
   "outputs": [],
   "source": [
    "# Training Data\n",
    "X_train = new_oil_prices_df[\"price\"] # Our intended features, i.e Gas Prices, Infastructure, Crude Oil, can obtain these from dataframes created\n",
    "y_train = electric_car_sales_df['jun_19'].sum()  # Target wanting to Achieve\n",
    "\n",
    "model = LinearRegression() # Fitting our model\n",
    "model.fit(X_train, y_train)\n",
    "\n",
    "y_pred = pd.Series(model.predict(X_train), index = X_train.index) # Predicting total sales using Oil price of a month"
   ]
  },
  {
   "cell_type": "markdown",
   "id": "69d0ade5",
   "metadata": {},
   "source": [
    "### Multiple Linear Regression model using Car Features for June 2019"
   ]
  },
  {
   "cell_type": "code",
   "execution_count": 53,
   "id": "667f5c0b",
   "metadata": {},
   "outputs": [
    {
     "data": {
      "text/html": [
       "<div>\n",
       "<style scoped>\n",
       "    .dataframe tbody tr th:only-of-type {\n",
       "        vertical-align: middle;\n",
       "    }\n",
       "\n",
       "    .dataframe tbody tr th {\n",
       "        vertical-align: top;\n",
       "    }\n",
       "\n",
       "    .dataframe thead th {\n",
       "        text-align: right;\n",
       "    }\n",
       "</style>\n",
       "<table border=\"1\" class=\"dataframe\">\n",
       "  <thead>\n",
       "    <tr style=\"text-align: right;\">\n",
       "      <th></th>\n",
       "      <th>Unnamed: 0</th>\n",
       "      <th>brand</th>\n",
       "      <th>model</th>\n",
       "      <th>accel_sec</th>\n",
       "      <th>top_speed_kmh</th>\n",
       "      <th>range_km</th>\n",
       "      <th>battery_pack_kwh</th>\n",
       "      <th>efficiency_whkm</th>\n",
       "      <th>fast_charge_kmh</th>\n",
       "      <th>rapid_charge</th>\n",
       "      <th>power_train</th>\n",
       "      <th>plug_type</th>\n",
       "      <th>body_style</th>\n",
       "      <th>price_euro</th>\n",
       "    </tr>\n",
       "  </thead>\n",
       "  <tbody>\n",
       "    <tr>\n",
       "      <th>0</th>\n",
       "      <td>0</td>\n",
       "      <td>Tesla</td>\n",
       "      <td>Model 3 Long Range Dual Motor</td>\n",
       "      <td>4.6</td>\n",
       "      <td>233</td>\n",
       "      <td>460</td>\n",
       "      <td>70.0</td>\n",
       "      <td>161</td>\n",
       "      <td>940</td>\n",
       "      <td>Yes</td>\n",
       "      <td>AWD</td>\n",
       "      <td>Type 2 CCS</td>\n",
       "      <td>Sedan</td>\n",
       "      <td>55480</td>\n",
       "    </tr>\n",
       "    <tr>\n",
       "      <th>1</th>\n",
       "      <td>1</td>\n",
       "      <td>Volkswagen</td>\n",
       "      <td>ID.3 Pure</td>\n",
       "      <td>10.0</td>\n",
       "      <td>160</td>\n",
       "      <td>270</td>\n",
       "      <td>45.0</td>\n",
       "      <td>167</td>\n",
       "      <td>250</td>\n",
       "      <td>Yes</td>\n",
       "      <td>RWD</td>\n",
       "      <td>Type 2 CCS</td>\n",
       "      <td>Hatchback</td>\n",
       "      <td>30000</td>\n",
       "    </tr>\n",
       "    <tr>\n",
       "      <th>2</th>\n",
       "      <td>2</td>\n",
       "      <td>Polestar</td>\n",
       "      <td>2</td>\n",
       "      <td>4.7</td>\n",
       "      <td>210</td>\n",
       "      <td>400</td>\n",
       "      <td>75.0</td>\n",
       "      <td>181</td>\n",
       "      <td>620</td>\n",
       "      <td>Yes</td>\n",
       "      <td>AWD</td>\n",
       "      <td>Type 2 CCS</td>\n",
       "      <td>Liftback</td>\n",
       "      <td>56440</td>\n",
       "    </tr>\n",
       "    <tr>\n",
       "      <th>3</th>\n",
       "      <td>3</td>\n",
       "      <td>BMW</td>\n",
       "      <td>iX3</td>\n",
       "      <td>6.8</td>\n",
       "      <td>180</td>\n",
       "      <td>360</td>\n",
       "      <td>74.0</td>\n",
       "      <td>206</td>\n",
       "      <td>560</td>\n",
       "      <td>Yes</td>\n",
       "      <td>RWD</td>\n",
       "      <td>Type 2 CCS</td>\n",
       "      <td>SUV</td>\n",
       "      <td>68040</td>\n",
       "    </tr>\n",
       "    <tr>\n",
       "      <th>4</th>\n",
       "      <td>4</td>\n",
       "      <td>Honda</td>\n",
       "      <td>e</td>\n",
       "      <td>9.5</td>\n",
       "      <td>145</td>\n",
       "      <td>170</td>\n",
       "      <td>28.5</td>\n",
       "      <td>168</td>\n",
       "      <td>190</td>\n",
       "      <td>Yes</td>\n",
       "      <td>RWD</td>\n",
       "      <td>Type 2 CCS</td>\n",
       "      <td>Hatchback</td>\n",
       "      <td>32997</td>\n",
       "    </tr>\n",
       "  </tbody>\n",
       "</table>\n",
       "</div>"
      ],
      "text/plain": [
       "   Unnamed: 0       brand                          model  accel_sec  \\\n",
       "0           0       Tesla  Model 3 Long Range Dual Motor        4.6   \n",
       "1           1  Volkswagen                      ID.3 Pure       10.0   \n",
       "2           2    Polestar                              2        4.7   \n",
       "3           3         BMW                            iX3        6.8   \n",
       "4           4       Honda                              e        9.5   \n",
       "\n",
       "   top_speed_kmh  range_km  battery_pack_kwh  efficiency_whkm  \\\n",
       "0            233       460              70.0              161   \n",
       "1            160       270              45.0              167   \n",
       "2            210       400              75.0              181   \n",
       "3            180       360              74.0              206   \n",
       "4            145       170              28.5              168   \n",
       "\n",
       "   fast_charge_kmh rapid_charge power_train   plug_type body_style  price_euro  \n",
       "0              940          Yes         AWD  Type 2 CCS      Sedan       55480  \n",
       "1              250          Yes         RWD  Type 2 CCS  Hatchback       30000  \n",
       "2              620          Yes         AWD  Type 2 CCS   Liftback       56440  \n",
       "3              560          Yes         RWD  Type 2 CCS        SUV       68040  \n",
       "4              190          Yes         RWD  Type 2 CCS  Hatchback       32997  "
      ]
     },
     "execution_count": 53,
     "metadata": {},
     "output_type": "execute_result"
    }
   ],
   "source": [
    "# Filtering the data\n",
    "electric_car_data_df.head()"
   ]
  },
  {
   "cell_type": "code",
   "execution_count": null,
   "id": "0423a01b",
   "metadata": {},
   "outputs": [],
   "source": [
    "# Training Data\n",
    "X_train = electric_car_data_df[\"range_km\", \"efficiency_whkm\", \"fast_charge_kmh\"] # Our intended features, i.e Gas Prices, Infastructure, Crude Oil, can obtain these from dataframes created\n",
    "y_train = electric_car_sales_df['jun_19'].sum()  # Target wanting to Achieve\n",
    "\n",
    "model = LinearRegression() # Fitting our model\n",
    "model.fit(X_train, y_train)\n",
    "\n",
    "y_pred = pd.Series(model.predict(X_train), index = X_train.index) # Predicting total sales using Car Features"
   ]
  },
  {
   "cell_type": "markdown",
   "id": "420c8173",
   "metadata": {},
   "source": [
    "### Model using Sum of Charging Stations "
   ]
  },
  {
   "cell_type": "code",
   "execution_count": 56,
   "id": "ad90ffd0",
   "metadata": {},
   "outputs": [
    {
     "data": {
      "text/html": [
       "<div>\n",
       "<style scoped>\n",
       "    .dataframe tbody tr th:only-of-type {\n",
       "        vertical-align: middle;\n",
       "    }\n",
       "\n",
       "    .dataframe tbody tr th {\n",
       "        vertical-align: top;\n",
       "    }\n",
       "\n",
       "    .dataframe thead th {\n",
       "        text-align: right;\n",
       "    }\n",
       "</style>\n",
       "<table border=\"1\" class=\"dataframe\">\n",
       "  <thead>\n",
       "    <tr style=\"text-align: right;\">\n",
       "      <th></th>\n",
       "      <th>Unnamed: 0</th>\n",
       "      <th>station_name</th>\n",
       "      <th>street_address</th>\n",
       "      <th>city</th>\n",
       "      <th>access_days_time</th>\n",
       "    </tr>\n",
       "  </thead>\n",
       "  <tbody>\n",
       "    <tr>\n",
       "      <th>0</th>\n",
       "      <td>0</td>\n",
       "      <td>BMW OF DARIEN</td>\n",
       "      <td>138-142 Ledge Rd</td>\n",
       "      <td>Darien</td>\n",
       "      <td>24 hours daily</td>\n",
       "    </tr>\n",
       "    <tr>\n",
       "      <th>1</th>\n",
       "      <td>1</td>\n",
       "      <td>Dunkin’ - Tesla Supercharger</td>\n",
       "      <td>893 E Main St</td>\n",
       "      <td>Meriden</td>\n",
       "      <td>24 hours daily; for Tesla use only</td>\n",
       "    </tr>\n",
       "    <tr>\n",
       "      <th>2</th>\n",
       "      <td>2</td>\n",
       "      <td>Town of Beacon Falls - Commuter Lot</td>\n",
       "      <td>105 N Main St</td>\n",
       "      <td>Beacon Falls</td>\n",
       "      <td>24 hours daily</td>\n",
       "    </tr>\n",
       "    <tr>\n",
       "      <th>3</th>\n",
       "      <td>3</td>\n",
       "      <td>OLD SAYBROOK VW</td>\n",
       "      <td>319 Middlesex Turnpike</td>\n",
       "      <td>Old Saybrook</td>\n",
       "      <td>24 hours daily</td>\n",
       "    </tr>\n",
       "    <tr>\n",
       "      <th>4</th>\n",
       "      <td>4</td>\n",
       "      <td>Fairfield Rail Station</td>\n",
       "      <td>80 Mill Plain Rd</td>\n",
       "      <td>Fairfield</td>\n",
       "      <td>24 hours daily</td>\n",
       "    </tr>\n",
       "  </tbody>\n",
       "</table>\n",
       "</div>"
      ],
      "text/plain": [
       "   Unnamed: 0                         station_name          street_address  \\\n",
       "0           0                        BMW OF DARIEN        138-142 Ledge Rd   \n",
       "1           1         Dunkin’ - Tesla Supercharger           893 E Main St   \n",
       "2           2  Town of Beacon Falls - Commuter Lot           105 N Main St   \n",
       "3           3                      OLD SAYBROOK VW  319 Middlesex Turnpike   \n",
       "4           4               Fairfield Rail Station        80 Mill Plain Rd   \n",
       "\n",
       "           city                    access_days_time  \n",
       "0        Darien                      24 hours daily  \n",
       "1       Meriden  24 hours daily; for Tesla use only  \n",
       "2  Beacon Falls                      24 hours daily  \n",
       "3  Old Saybrook                      24 hours daily  \n",
       "4     Fairfield                      24 hours daily  "
      ]
     },
     "execution_count": 56,
     "metadata": {},
     "output_type": "execute_result"
    }
   ],
   "source": [
    "# Getting our numbers for the Machine Learning Model\n",
    "charging_stations_df.head()"
   ]
  },
  {
   "cell_type": "code",
   "execution_count": 60,
   "id": "96983a3b",
   "metadata": {},
   "outputs": [
    {
     "data": {
      "text/plain": [
       "385"
      ]
     },
     "execution_count": 60,
     "metadata": {},
     "output_type": "execute_result"
    }
   ],
   "source": [
    "# Getting the sum of the stations\n",
    "charging_stations_df['station_name'].count()"
   ]
  },
  {
   "cell_type": "code",
   "execution_count": null,
   "id": "db9a2aa4",
   "metadata": {},
   "outputs": [],
   "source": [
    "# Training Data\n",
    "X_train = charging_stations_df[\"station_name\"].count() # Our intended features, i.e Gas Prices, Infastructure, Crude Oil, can obtain these from dataframes created\n",
    "y_train = electric_car_sales_df[\"jun_19\"].sum()  # Target wanting to Achieve\n",
    "\n",
    "model = LinearRegression() # Fitting our model\n",
    "model.fit(X_train, y_train)\n",
    "\n",
    "y_pred = pd.Series(model.predict(X_train), index = X_train.index) # Predicting total sales using sum of charging stations"
   ]
  }
 ],
 "metadata": {
  "kernelspec": {
   "display_name": "mlenv",
   "language": "python",
   "name": "mlenv"
  },
  "language_info": {
   "codemirror_mode": {
    "name": "ipython",
    "version": 3
   },
   "file_extension": ".py",
   "mimetype": "text/x-python",
   "name": "python",
   "nbconvert_exporter": "python",
   "pygments_lexer": "ipython3",
   "version": "3.7.13"
  }
 },
 "nbformat": 4,
 "nbformat_minor": 5
}

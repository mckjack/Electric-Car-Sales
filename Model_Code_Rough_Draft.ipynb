{
 "cells": [
  {
   "cell_type": "code",
   "execution_count": 2,
   "id": "387ef56a",
   "metadata": {},
   "outputs": [],
   "source": [
    "import pandas as pd\n",
    "from pathlib import Path\n",
    "import matplotlib.pyplot as plt\n",
    "from sklearn.linear_model import LinearRegression\n",
    "import statsmodels.api as sm\n",
    "import statsmodels.formula.api as smf"
   ]
  },
  {
   "cell_type": "code",
   "execution_count": 3,
   "id": "7058237e",
   "metadata": {},
   "outputs": [],
   "source": [
    "# Once Data is cleaned, the code for preprocessing, loading the data will go here! \n",
    "# To get the data, must be exported to a csv to read using pd.read_csv()\n",
    "# Drop the null values,\n",
    "# Create a new dataframe after this preprocessing\n",
    "# After this we will split the data into training datasets.\n",
    "# Here must index our dataset to display accurate times that correspond with features (i.e Gas Prices with Car Sales)\n",
    "# Maybe create time series dataframe? \n",
    "-> use np.arange(len(time.index)) # Aranges our dataset accordingly"
   ]
  },
  {
   "cell_type": "code",
   "execution_count": null,
   "id": "23a5982f",
   "metadata": {},
   "outputs": [],
   "source": [
    "from sklearn.model_selection import train_test_split\n",
    "X_train, X_test, y_train, y_test = train_test_split(X, y, random_state=1, stratify=y) # Splitting data into training, testing sets"
   ]
  },
  {
   "cell_type": "code",
   "execution_count": null,
   "id": "f6d8f77e",
   "metadata": {},
   "outputs": [],
   "source": [
    "# Training Data\n",
    "X_train = df.loc[\"Columns\"] # Our intended features, i.e Gas Prices, Infastructure, Crude Oil, can obtain these from dataframes created\n",
    "X_train.dropna(inplace= True) # Drop missing features\n",
    "y_train = df.loc[\"# of Vehicles Sold\"] # Target wanting to Achieve\n",
    "\n",
    "model = LinearRegression() # Fitting our model\n",
    "model.fit(X_train, y_train)\n",
    "\n",
    "y_pred = pd.Series(model.predict(X_train), index = X_train.index) # Predicting using Time-Series Linear Regression"
   ]
  }
 ],
 "metadata": {
  "kernelspec": {
   "display_name": "mlenv",
   "language": "python",
   "name": "mlenv"
  },
  "language_info": {
   "codemirror_mode": {
    "name": "ipython",
    "version": 3
   },
   "file_extension": ".py",
   "mimetype": "text/x-python",
   "name": "python",
   "nbconvert_exporter": "python",
   "pygments_lexer": "ipython3",
   "version": "3.7.13"
  }
 },
 "nbformat": 4,
 "nbformat_minor": 5
}
